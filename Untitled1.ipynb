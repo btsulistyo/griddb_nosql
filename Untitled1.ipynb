{
 "cells": [
  {
   "attachments": {},
   "cell_type": "markdown",
   "metadata": {},
   "source": [
    "Python adalah bahasa pemrograman interpretatif multiguna. Tidak seperti bahasa lain yang susah untuk dibaca dan dipahami, python lebih menekankan pada keterbacaan kode agar lebih mudah untuk memahami sintaks. Hal ini membuat Python sangat mudah dipelajari baik untuk pemula maupun untuk yang sudah menguasai bahasa pemrograman lain.\n",
    "\n",
    "Bahasa ini muncul pertama kali pada tahun 1991, dirancang oleh seorang bernama Guido van Rossum. Sampai saat ini Python masih dikembangkan oleh Python Software Foundation. Bahasa Python mendukung hampir semua sistem operasi, bahkan untuk sistem operasi Linux, hampir semua distronya sudah menyertakan Python di dalamnya.\n",
    "Dengan kode yang simpel dan mudah diimplementasikan, seorang programmer dapat lebih mengutamakan pengembangan aplikasi yang dibuat, bukan malah sibuk mencari syntax error."
   ]
  },
  {
   "attachments": {},
   "cell_type": "markdown",
   "metadata": {},
   "source": [
    "Variabel adalah lokasi memori yang dicadangkan untuk menyimpan nilai-nilai. Variabel dapat menyimpan berbagai tipe data. Di Python variable sifatnya dinamis di mana dia tidak perlu dideklarasikan.\n",
    "\n",
    "Aturan penulisan variabel:\n",
    "1. Karakter pertama harus berupa huruf atau underscore (_)\n",
    "2. Karakter selanjutnya bisa berupa huruf, underscore, atau angka\n",
    "3. Karakter berupa case sensitive di mana huruf capital dan huruf kecil itu berbeda\n",
    "\n",
    "Dibawah ini adalah contoh penggunaan variabel dalam bahasa pemrograman Python\n"
   ]
  },
  {
   "cell_type": "code",
   "execution_count": 5,
   "metadata": {},
   "outputs": [
    {
     "name": "stdout",
     "output_type": "stream",
     "text": [
      "20\n"
     ]
    }
   ],
   "source": [
    "umur = 20\n",
    "print(umur)"
   ]
  },
  {
   "cell_type": "markdown",
   "metadata": {},
   "source": [
    "String adalah jenis yang paling populer di bahasa pemrograman. Kita bisa membuatnya hanya dengan melampirkan karakter dalam tanda kutip. Python memperlakukan tanda kutip tunggal sama dengan tanda kutip ganda. Membuat string semudah memberi nilai pada sebuah variabel.\n",
    "\n",
    "Dibawah ini adalah contoh sederhana dari sebuah string pada bahasa pemrograman Python."
   ]
  },
  {
   "cell_type": "code",
   "execution_count": 8,
   "metadata": {},
   "outputs": [
    {
     "name": "stdout",
     "output_type": "stream",
     "text": [
      "ini string\n"
     ]
    }
   ],
   "source": [
    "print ('ini string')"
   ]
  },
  {
   "cell_type": "markdown",
   "metadata": {},
   "source": [
    "Number adalah tipe data Python yang menyimpan nilai numerik. Number adalah tipe data yang tidak berubah. Ini berarti, mengubah nilai dari sejumlah tipe data akan menghasilkan objek yang baru dialokasikan.\n",
    "\n",
    "Python mendukung beberapa tipe data Number diantaranya :\n",
    "\n",
    "1. Int\n",
    "2. Float\n",
    "3. Complex "
   ]
  },
  {
   "cell_type": "code",
   "execution_count": null,
   "metadata": {},
   "outputs": [],
   "source": [
    "angkaKedua = 33"
   ]
  },
  {
   "cell_type": "markdown",
   "metadata": {},
   "source": [
    "Operator adalah konstruksi yang dapat memanipulasi nilai dari operan.\n",
    "\n",
    "Bahasa pemrograman Python mendukung berbagai macam operator, diantaranya :\n",
    "\n",
    "1. Operator Aritmatika (Arithmetic Operators)\n",
    "2. Operator Perbandingan (Comparison (Relational) Operators)\n",
    "3. Operator Penugasan (Assignment Operators)\n",
    "4. Operator Logika (Logical Operators)\n",
    "5. Operator Bitwise (Bitwise Operators)\n",
    "6. Operator Keanggotaan (Membership Operators)\n",
    "7. Operator Identitas (Identity Operators)\n",
    "\n",
    "Operator aritmatika terdiri atas Penjumlahan +, Pengurangan -, Perkalian *, Pembagian /, Sisa Bagi %, Pangkat **, Pembagian Bulat //\n",
    "\n",
    "Operator perbandingan (comparison operators) digunakan untuk membandingkan suatu nilai dari masing-masing operan. Operator perbandingan tediri atas Sama dengan ==, Tidak sama dengan != atau <>, Lebih besar dari >, Lebih kecil dari <, Lebih besar atau sama dengan >=, Lebih kecil atau sama dengan <=\t "
   ]
  },
  {
   "cell_type": "code",
   "execution_count": 9,
   "metadata": {},
   "outputs": [
    {
     "data": {
      "text/plain": [
       "2"
      ]
     },
     "execution_count": 9,
     "metadata": {},
     "output_type": "execute_result"
    }
   ],
   "source": [
    "1 + 1"
   ]
  },
  {
   "cell_type": "markdown",
   "metadata": {},
   "source": [
    "Kondisi Python\n",
    "\n",
    "1. Kondisi If\n",
    "Pengambilan keputusan (kondisi if) digunakan untuk mengantisipasi kondisi yang terjadi saat jalanya program dan menentukan tindakan apa yang akan diambil sesuai dengan kondisi.\n",
    "\n",
    "Pada python ada beberapa statement/kondisi diantaranya adalah if, else dan elif Kondisi if digunakan untuk mengeksekusi kode jika kondisi bernilai benar True.\n",
    "\n",
    "Jika kondisi bernilai salah False maka statement/kondisi if tidak akan di-eksekusi.\n",
    "\n",
    "Dibawah ini adalah contoh penggunaan kondisi if pada Python"
   ]
  },
  {
   "cell_type": "code",
   "execution_count": 11,
   "metadata": {},
   "outputs": [],
   "source": [
    "nilai = 5\n",
    "\n",
    "if(nilai > 7):\n",
    "    print(\"Selamat Anda Lulus\")\n"
   ]
  },
  {
   "cell_type": "markdown",
   "metadata": {},
   "source": [
    "2. Kondisi If Else\n",
    "\n",
    "Pengambilan keputusan (kondisi if else) tidak hanya digunakan untuk menentukan tindakan apa yang akan diambil sesuai dengan kondisi, tetapi juga digunakan untuk menentukan tindakan apa yang akan diambil/dijalankan jika kondisi tidak sesuai.\n",
    "\n",
    "Pada python ada beberapa statement/kondisi diantaranya adalah if, else dan elif Kondisi if digunakan untuk mengeksekusi kode jika kondisi bernilai benar."
   ]
  },
  {
   "cell_type": "code",
   "execution_count": 13,
   "metadata": {},
   "outputs": [
    {
     "name": "stdout",
     "output_type": "stream",
     "text": [
      "Selamat Anda Lulus\n"
     ]
    }
   ],
   "source": [
    "nilai = 10\n",
    "\n",
    "if(nilai > 7):\n",
    "    print(\"Selamat Anda Lulus\")\n",
    "else:\n",
    "    print(\"Maaf Anda Tidak Lulus\")"
   ]
  },
  {
   "cell_type": "markdown",
   "metadata": {},
   "source": [
    "Kondisi Elif\n",
    "\n",
    "Pengambilan keputusan (kondisi if elif) merupakan lanjutan/percabangan logika dari “kondisi if”. Dengan elif kita bisa membuat kode program yang akan menyeleksi beberapa kemungkinan yang bisa terjadi. Hampir sama dengan kondisi “else”, bedanya kondisi “elif” bisa banyak dan tidak hanya satu."
   ]
  },
  {
   "cell_type": "code",
   "execution_count": 16,
   "metadata": {},
   "outputs": [
    {
     "name": "stdout",
     "output_type": "stream",
     "text": [
      "Hari ini saya akan cabut\n"
     ]
    }
   ],
   "source": [
    "hari_ini = \"mager\"\n",
    "\n",
    "if(hari_ini == \"Senin\"):\n",
    "    print(\"Saya akan kuliah\")\n",
    "elif(hari_ini == \"Selasa\"):\n",
    "    print(\"Saya akan kuliah\")\n",
    "elif(hari_ini == \"Rabu\"):\n",
    "    print(\"Saya akan kuliah\")\n",
    "elif(hari_ini == \"Kamis\"):\n",
    "    print(\"Saya akan kuliah\")\n",
    "elif(hari_ini == \"Jumat\"):\n",
    "    print(\"Saya akan kuliah\")\n",
    "elif(hari_ini == \"Sabtu\"):\n",
    "    print(\"Saya akan kuliah\")\n",
    "elif(hari_ini == \"Minggu\"):\n",
    "    print(\"Saya akan libur\")\n",
    "elif(hari_ini == \"mager\"):\n",
    "    print(\"Hari ini saya akan cabut\")"
   ]
  },
  {
   "cell_type": "markdown",
   "metadata": {},
   "source": [
    "Loop Python\n",
    "\n",
    "Di dalam bahasa pemrograman Python pengulangan dibagi menjadi 3 bagian, yaitu :\n",
    "\n",
    "1. While Loop\n",
    "2. For Loop\n",
    "3. Nested Loop\n",
    "\n",
    "1. While Loop\n",
    "\n",
    "Pengulangan While Loop di dalam bahasa pemrograman Python dieksesusi statement berkali-kali selama kondisi bernilai benar atau True."
   ]
  },
  {
   "cell_type": "code",
   "execution_count": null,
   "metadata": {},
   "outputs": [],
   "source": [
    "count = 0\n",
    "while (count < 9):\n",
    "    print 'The count is:', count\n",
    "    count = count + 1\n",
    "\n",
    "print (\"Good bye!\")"
   ]
  },
  {
   "cell_type": "markdown",
   "metadata": {},
   "source": [
    "2. For Loop\n",
    "Pengulangan for pada Python memiliki kemampuan untuk mengulangi item dari urutan apapun, seperti list atau string."
   ]
  },
  {
   "cell_type": "code",
   "execution_count": 17,
   "metadata": {},
   "outputs": [
    {
     "name": "stdout",
     "output_type": "stream",
     "text": [
      "1\n",
      "2\n",
      "3\n",
      "4\n",
      "5\n"
     ]
    }
   ],
   "source": [
    "angka = [1,2,3,4,5]\n",
    "for x in angka:\n",
    "    print(x)"
   ]
  },
  {
   "cell_type": "markdown",
   "metadata": {},
   "source": [
    "3. Nested Loop\n",
    "\n",
    "Bahasa pemrograman Python memungkinkan penggunaan satu lingkaran di dalam loop lain. Bagian berikut menunjukkan beberapa contoh untuk menggambarkan konsep tersebut."
   ]
  },
  {
   "cell_type": "code",
   "execution_count": 18,
   "metadata": {},
   "outputs": [
    {
     "ename": "SyntaxError",
     "evalue": "invalid syntax (<ipython-input-18-cf14ea26f84b>, line 7)",
     "output_type": "error",
     "traceback": [
      "\u001b[1;36m  File \u001b[1;32m\"<ipython-input-18-cf14ea26f84b>\"\u001b[1;36m, line \u001b[1;32m7\u001b[0m\n\u001b[1;33m    if (j > i/j) : print i, \" is prime\"\u001b[0m\n\u001b[1;37m                         ^\u001b[0m\n\u001b[1;31mSyntaxError\u001b[0m\u001b[1;31m:\u001b[0m invalid syntax\n"
     ]
    }
   ],
   "source": [
    "i = 2\n",
    "while(i < 100):\n",
    "    j = 2\n",
    "    while(j <= (i/j)):\n",
    "        if not(i%j): break\n",
    "        j = j + 1\n",
    "    if (j > i/j) : print i, \" is prime\"\n",
    "    i = i + 1\n",
    "\n",
    "print \"Good bye!\""
   ]
  },
  {
   "cell_type": "code",
   "execution_count": null,
   "metadata": {},
   "outputs": [],
   "source": []
  }
 ],
 "metadata": {
  "kernelspec": {
   "display_name": "Python 3",
   "language": "python",
   "name": "python3"
  },
  "language_info": {
   "codemirror_mode": {
    "name": "ipython",
    "version": 3
   },
   "file_extension": ".py",
   "mimetype": "text/x-python",
   "name": "python",
   "nbconvert_exporter": "python",
   "pygments_lexer": "ipython3",
   "version": "3.6.2"
  }
 },
 "nbformat": 4,
 "nbformat_minor": 2
}
